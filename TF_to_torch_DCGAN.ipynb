{
  "nbformat": 4,
  "nbformat_minor": 0,
  "metadata": {
    "colab": {
      "name": "dcgan.ipynb",
      "provenance": [],
      "collapsed_sections": [],
      "authorship_tag": "ABX9TyMJS7nzmuPNfy4ygrYVKgz4",
      "include_colab_link": true
    },
    "kernelspec": {
      "name": "python3",
      "display_name": "Python 3"
    }
  },
  "cells": [
    {
      "cell_type": "markdown",
      "metadata": {
        "id": "view-in-github",
        "colab_type": "text"
      },
      "source": [
        "<a href=\"https://colab.research.google.com/github/silverstar0727/DSC-ML-Research-Study/blob/main/TF_to_torch_DCGAN.ipynb\" target=\"_parent\"><img src=\"https://colab.research.google.com/assets/colab-badge.svg\" alt=\"Open In Colab\"/></a>"
      ]
    },
    {
      "cell_type": "code",
      "metadata": {
        "id": "dajiDmTRa9D4"
      },
      "source": [
        "\"\"\" configuration json을 읽어들이는 class \"\"\"\r\n",
        "class Config(dict): \r\n",
        "    __getattr__ = dict.__getitem__\r\n",
        "    __setattr__ = dict.__setitem__\r\n",
        "\r\n",
        "    @classmethod\r\n",
        "    def load(cls, file):\r\n",
        "        with open(file, 'r') as f:\r\n",
        "            config = json.loads(f.read())\r\n",
        "            return Config(config)"
      ],
      "execution_count": 16,
      "outputs": []
    },
    {
      "cell_type": "code",
      "metadata": {
        "id": "u9UnlJiBbeu7"
      },
      "source": [
        "config = Config({\r\n",
        "    'batch_size': 128,\r\n",
        "    'learning_rate': 0.0002,\r\n",
        "    'epochs': 500,\r\n",
        "    'in_features': 256,\r\n",
        "    'in_channels': 64\r\n",
        "})"
      ],
      "execution_count": 32,
      "outputs": []
    },
    {
      "cell_type": "markdown",
      "metadata": {
        "id": "gEEu8TA8b7bj"
      },
      "source": [
        "# Libraries"
      ]
    },
    {
      "cell_type": "code",
      "metadata": {
        "id": "4o3eC49abovu"
      },
      "source": [
        "import torch\r\n",
        "import torch.nn as nn\r\n",
        "import torch.optim as optim\r\n",
        "import torch.nn.init as init"
      ],
      "execution_count": 33,
      "outputs": []
    },
    {
      "cell_type": "markdown",
      "metadata": {
        "id": "UEaCsLZAcBrT"
      },
      "source": [
        "# Modeling\r\n",
        "- generator"
      ]
    },
    {
      "cell_type": "code",
      "metadata": {
        "id": "ecjrncRxcBHR"
      },
      "source": [
        "class Generator(nn.Module):\r\n",
        "  def __init__(self, config):\r\n",
        "    super(Generator, self).__init__()\r\n",
        "    self.config = config\r\n",
        "\r\n",
        "    # def layers\r\n",
        "    self.fc1 = nn.Linear(in_features=self.config.in_features, out_features = 7*7*128)\r\n",
        "    self.bn1 = nn.BatchNorm2d(7*7*128)\r\n",
        "    self.conv2tr1 = nn.ConvTranspose2d(in_channels=128, out_channels=64, kernel_size=5, stride=2)\r\n",
        "    self.bn2 = nn.BatchNorm2d(64)\r\n",
        "    self.conv2tr2 = nn.ConvTranspose2d(in_channels=64, out_channels=64, kernel_size=5, stride=2)\r\n",
        "\r\n",
        "  # def logic\r\n",
        "  def forward(self, x):\r\n",
        "    x = self.fc1(x)\r\n",
        "    x = self.bn1(x)\r\n",
        "    x = nn.LeakyReLU(x)\r\n",
        "    x = x.view(-1, 7, 7, 128)\r\n",
        "    x = self.conv2tr1(x)\r\n",
        "    x = self.bn2(x)\r\n",
        "    x = nn.LeakyReLU(x)\r\n",
        "    x = self.conv2tr2(x)\r\n",
        "    x = nn.tanh(x)\r\n",
        "\r\n",
        "    return x"
      ],
      "execution_count": 34,
      "outputs": []
    },
    {
      "cell_type": "markdown",
      "metadata": {
        "id": "aliAgJZegPLS"
      },
      "source": [
        "- discriminator"
      ]
    },
    {
      "cell_type": "code",
      "metadata": {
        "id": "CBZemoJ-ft5g"
      },
      "source": [
        "class Discriminator(nn.Module):\r\n",
        "  def __init__(self, config):\r\n",
        "    super(Discriminator, self).__init__()\r\n",
        "    self.config = config\r\n",
        "\r\n",
        "    self.conv1 = nn.Conv2d(in_channels = self.config.in_channels ,out_channels=64, kernel_size=5, stride = 2)\r\n",
        "    self.bn1 = nn.BatchNorm2d(64)\r\n",
        "    self.conv2 = nn.Conv2d(in_channels = 64, out_channels = 128, kernel_size=5, stride = 2)\r\n",
        "    self.bn2 = nn.BatchNorm2d(128)\r\n",
        "    self.flatten = nn.Flatten()\r\n",
        "    self.fc1 = nn.Linear(in_features=2048, out_features=1024)\r\n",
        "    self.bn3 = nn.BatchNorm2d(1024)\r\n",
        "    self.fc2 = nn.Linear(in_features=1024, out_features = 2)\r\n",
        "\r\n",
        "  def forward(self, x):\r\n",
        "    x = x.view(-1, 28, 28, 1) \r\n",
        "    x = self.conv1(x)\r\n",
        "    x = self.bn1(x)\r\n",
        "    x = nn.LeakyReLU(x)\r\n",
        "    x = self.conv2(x)\r\n",
        "    x = self.bn2(x)\r\n",
        "    x = self.flatten(x)\r\n",
        "    x = self.fc1(x)\r\n",
        "    x = self.bn3(x)\r\n",
        "    x = nn.LeakyReLU(x)\r\n",
        "    x = self.fc2(x)\r\n",
        "\r\n",
        "    return x"
      ],
      "execution_count": 39,
      "outputs": []
    },
    {
      "cell_type": "markdown",
      "metadata": {
        "id": "YVmZeYzQj5Fe"
      },
      "source": [
        "# compile\r\n",
        "(loss: cross entropy, optimizer: Adam)"
      ]
    },
    {
      "cell_type": "code",
      "metadata": {
        "id": "ENpzbHACkrZJ"
      },
      "source": [
        "generator = Generator(config)\r\n",
        "discriminator = Discriminator(config)\r\n",
        "\r\n",
        "# default\r\n",
        "device = torch.device(\"cuda:0\" if torch.cuda.is_available() else \"cpu\")\r\n",
        "\r\n",
        "# 모델 올리기\r\n",
        "generator = generator.to(device)\r\n",
        "discriminator = discriminator.to(device)\r\n",
        "\r\n",
        "# 손실함수 정하기\r\n",
        "gen_loss_func = nn.CrossEntropyLoss()\r\n",
        "dis_loss_func = nn.CrossEntropyLoss()\r\n",
        "\r\n",
        "# 최적화 함수 정하기\r\n",
        "gen_optimizer = torch.optim.Adam(generator.parameters(), lr = config.learning_rate) # 최적화 대상으로는 model.parameter를 정하기\r\n",
        "dis_optimizer = torch.optim.Adam(discriminator.parameters(), lr = config.learning_rate)"
      ],
      "execution_count": 43,
      "outputs": []
    },
    {
      "cell_type": "code",
      "metadata": {
        "id": "T_-9AjAt0W7Q"
      },
      "source": [
        ""
      ],
      "execution_count": 41,
      "outputs": []
    }
  ]
}
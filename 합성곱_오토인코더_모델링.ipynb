{
  "nbformat": 4,
  "nbformat_minor": 0,
  "metadata": {
    "colab": {
      "name": "합성곱 오토인코더 모델링.ipynb",
      "provenance": [],
      "collapsed_sections": [],
      "authorship_tag": "ABX9TyNOIecnm3cbk7Ae1QaMXT6k",
      "include_colab_link": true
    },
    "kernelspec": {
      "name": "python3",
      "display_name": "Python 3"
    }
  },
  "cells": [
    {
      "cell_type": "markdown",
      "metadata": {
        "id": "view-in-github",
        "colab_type": "text"
      },
      "source": [
        "<a href=\"https://colab.research.google.com/github/silverstar0727/DSC-ML-Research-Study/blob/main/%ED%95%A9%EC%84%B1%EA%B3%B1_%EC%98%A4%ED%86%A0%EC%9D%B8%EC%BD%94%EB%8D%94_%EB%AA%A8%EB%8D%B8%EB%A7%81.ipynb\" target=\"_parent\"><img src=\"https://colab.research.google.com/assets/colab-badge.svg\" alt=\"Open In Colab\"/></a>"
      ]
    },
    {
      "cell_type": "markdown",
      "metadata": {
        "id": "MEEKbpTYJALd"
      },
      "source": [
        "# Libraries"
      ]
    },
    {
      "cell_type": "code",
      "metadata": {
        "id": "N2UKzb9zI-ZW"
      },
      "source": [
        "import tensorflow as tf\r\n",
        "from tensorflow.keras import *"
      ],
      "execution_count": null,
      "outputs": []
    },
    {
      "cell_type": "markdown",
      "metadata": {
        "id": "ehgNQMMBJJki"
      },
      "source": [
        "# Hyperparameters"
      ]
    },
    {
      "cell_type": "code",
      "metadata": {
        "id": "BK0832HaJI9E"
      },
      "source": [
        "\"\"\" configuration json을 읽어들이는 class \"\"\"\r\n",
        "class Config(dict): \r\n",
        "    __getattr__ = dict.__getitem__\r\n",
        "    __setattr__ = dict.__setitem__\r\n",
        "\r\n",
        "    @classmethod\r\n",
        "    def load(cls, file):\r\n",
        "        with open(file, 'r') as f:\r\n",
        "            config = json.loads(f.read())\r\n",
        "            return Config(config)"
      ],
      "execution_count": null,
      "outputs": []
    },
    {
      "cell_type": "code",
      "metadata": {
        "id": "GgqGkHe1JNlI"
      },
      "source": [
        "config = Config({\r\n",
        "    'batch_size': 256,\r\n",
        "    'learning_rate': 0.0002,\r\n",
        "    'num_epoch': 5\r\n",
        "})"
      ],
      "execution_count": null,
      "outputs": []
    },
    {
      "cell_type": "markdown",
      "metadata": {
        "id": "8Gsx1MoeJZPh"
      },
      "source": [
        "# Model\r\n",
        "- Encoder"
      ]
    },
    {
      "cell_type": "code",
      "metadata": {
        "id": "k84BmtZjJXuH"
      },
      "source": [
        "class Encoder(tf.keras.Model):\r\n",
        "  def __init__(self, config): # config 받아오기\r\n",
        "    suepr(Encoder, self).__init__()\r\n",
        "    self.config = config\r\n",
        "\r\n",
        "    ## layer1 지정\r\n",
        "    self.layer1 = tf.keras.Sequential()\r\n",
        "    self.layer1.add(tf.keras.layers.Conv2D(filters=16, kernel_size=3, strides=2, padding='same', activation='relu'))\r\n",
        "    self.layer1.add(tf.keras.layers.BatchNormalization())\r\n",
        "    self.layer1.add(tf.keras.layers.Conv2D(filters=32, kernel_size=3, strides=2, padding='same', activation='relu'))\r\n",
        "    self.layer1.add(tf.keras.layers.BatchNormalization()\r\n",
        "    self.layer1.add(tf.keras.layers.Conv2D(filters=64, kernel_size=3, strides=2, padding='same', activation='relu'))\r\n",
        "    self.layer1.add(tf.keras.layers.BatchNormalization()\r\n",
        "    self.layer1.add(tf.keras.layers.MaxPool2D((2,2)))\r\n",
        "\r\n",
        "    ## layer2 지정\r\n",
        "    self.layer2 = tf.keras.Sequential()\r\n",
        "    self.layer2.add(tf.keras.layers.Conv2D(filters=128, kernel_size=3, strides=2, padding='same', activation='relu'))\r\n",
        "    self.layer2.add(tf.keras.layers.BatchNormalization())\r\n",
        "    self.layer2.add(tf.keras.layers.MaxPool2D((2,2)))\r\n",
        "    self.layer2.add(tf.keras.layers.Conv2D(filters=256, kernel_size=3, strides=2, padding='same', activation='relu'))\r\n",
        "\r\n",
        "  def call(self, x):\r\n",
        "    # layer1과 layer2의 조합\r\n",
        "    out = self.layer1(x)\r\n",
        "    out = self.layer2(x)\r\n",
        "    out = tf.reshape(out, (self.config.batch_size, -1))\r\n",
        "\r\n",
        "    return out"
      ],
      "execution_count": null,
      "outputs": []
    },
    {
      "cell_type": "markdown",
      "metadata": {
        "id": "wQ4AmXS1T2C5"
      },
      "source": [
        "- Decoder"
      ]
    },
    {
      "cell_type": "code",
      "metadata": {
        "id": "Vh3R99kCNXUI"
      },
      "source": [
        "class Decoder(tf.keras.Model):\r\n",
        "  def __init__(self, config):\r\n",
        "    super(Decoder, self).__init__()\r\n",
        "    self.config = config\r\n",
        "\r\n",
        "    ## layer1 지정\r\n",
        "    self.layer1 = tf.keras.Sequential()\r\n",
        "    self.layer1.add(tf.keras.layers.Convolution2DTranspose(filters=128, kernel_size=3, strides =2 ,padding =, activation = 'relu'))\r\n",
        "    self.layer1.add(tf.keras.layers.BatchNormalization())\r\n",
        "    self.layer1.add(tf.keras.layers.Convolution2DTranspose(filters=64, kernel_size=3, strides = 2,padding =, activation = 'relu'))\r\n",
        "    self.layer1.add(tf.keras.layers.BatchNormalization())\r\n",
        "\r\n",
        "    ## layer2 지정\r\n",
        "    self.layer2 = tf.keras.Sequential()\r\n",
        "    self.layer2.add(tf.keras.layers.Convolution2DTranspose(filters=16, kernel_size=3, strides = 2,padding ='same', activation = 'relu'))\r\n",
        "    self.layer2.add(tf.keras.layers.BatchNormalization())\r\n",
        "    self.layer2.add(tf.keras.layers.Convolution2DTranspose(filters=1, kernel_size=3, strides =2 ,padding ='same', activation = 'relu'))\r\n",
        "\r\n",
        "  def call(self, x):\r\n",
        "    # layer1과 layer2의 조합\r\n",
        "    out = tf.reshape(x, (self.config.batch_size, 256, 7, 7))\r\n",
        "    out = self.layer1(out)\r\n",
        "    out = self.layer2(out)\r\n",
        "\r\n",
        "    return out"
      ],
      "execution_count": null,
      "outputs": []
    },
    {
      "cell_type": "markdown",
      "metadata": {
        "id": "8Q1rU_-KTzzs"
      },
      "source": [
        "- 완성"
      ]
    },
    {
      "cell_type": "code",
      "metadata": {
        "id": "D_WswwBxNe11"
      },
      "source": [
        "class Model(tf.keras.Model):\r\n",
        "  def __init__(self, config):\r\n",
        "    super(Model, self).__init__()\r\n",
        "    self.config = config\r\n",
        "\r\n",
        "    self.Encoder = Encoder(self.config)\r\n",
        "    self.Decoder = Decoder(self.config)\r\n",
        "\r\n",
        "  def call(self, input):\r\n",
        "    out = Encoder(input)\r\n",
        "    out = Decoder(out)\r\n",
        "\r\n",
        "    return out"
      ],
      "execution_count": null,
      "outputs": []
    },
    {
      "cell_type": "markdown",
      "metadata": {
        "id": "Yq2saFKYTyLo"
      },
      "source": [
        "## compile"
      ]
    },
    {
      "cell_type": "code",
      "metadata": {
        "id": "Y-6L83pwP0Y4"
      },
      "source": [
        "model = Model()\r\n",
        "model.compile(optimizer = tf.keras.optimizers.Adam(learning_rate = config.learning_rate),\r\n",
        "              loss = tf.keras.losses.MSE(),\r\n",
        "              metrics = [tf.keras.metrics.mse()])"
      ],
      "execution_count": null,
      "outputs": []
    }
  ]
}